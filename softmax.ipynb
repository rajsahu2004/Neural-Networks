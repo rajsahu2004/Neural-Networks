{
 "cells": [
  {
   "cell_type": "code",
   "execution_count": 1,
   "metadata": {},
   "outputs": [],
   "source": [
    "import numpy as np\n",
    "import matplotlib.pyplot as plt\n",
    "import tensorflow as tf\n",
    "from keras.models import Sequential\n",
    "from keras.layers import Dense, Activation\n",
    "from sklearn.datasets import make_blobs\n",
    "from matplotlib.widgets import Slider\n",
    "import logging\n",
    "logging.getLogger('tensorflow').setLevel(logging.ERROR)\n",
    "tf.autograph.set_verbosity(0)"
   ]
  },
  {
   "cell_type": "code",
   "execution_count": 2,
   "metadata": {},
   "outputs": [],
   "source": [
    "def my_softmax(x):\n",
    "    ez=np.exp(x)\n",
    "    sm = ez/np.sum(ez)\n",
    "    return sm"
   ]
  },
  {
   "cell_type": "code",
   "execution_count": 4,
   "metadata": {},
   "outputs": [],
   "source": [
    "centers = [[-5,2],[-2,-2],[1,2],[5,-2]]\n",
    "xTrain,yTrain = make_blobs(n_samples=2000,centers=centers,cluster_std=1,random_state=30)"
   ]
  },
  {
   "cell_type": "code",
   "execution_count": 5,
   "metadata": {},
   "outputs": [
    {
     "name": "stdout",
     "output_type": "stream",
     "text": [
      "Epoch 1/10\n",
      "63/63 [==============================] - 2s 3ms/step - loss: 1.3486\n",
      "Epoch 2/10\n",
      "63/63 [==============================] - 0s 1ms/step - loss: 0.6244\n",
      "Epoch 3/10\n",
      "63/63 [==============================] - 0s 1ms/step - loss: 0.3752\n",
      "Epoch 4/10\n",
      "63/63 [==============================] - 0s 1ms/step - loss: 0.2320\n",
      "Epoch 5/10\n",
      "63/63 [==============================] - 0s 1ms/step - loss: 0.1388\n",
      "Epoch 6/10\n",
      "63/63 [==============================] - 0s 1ms/step - loss: 0.0890\n",
      "Epoch 7/10\n",
      "63/63 [==============================] - 0s 1ms/step - loss: 0.0688\n",
      "Epoch 8/10\n",
      "63/63 [==============================] - 0s 1ms/step - loss: 0.0582\n",
      "Epoch 9/10\n",
      "63/63 [==============================] - 0s 1ms/step - loss: 0.0512\n",
      "Epoch 10/10\n",
      "63/63 [==============================] - 0s 1ms/step - loss: 0.0467\n"
     ]
    },
    {
     "data": {
      "text/plain": [
       "<keras.callbacks.History at 0x1d0cff86620>"
      ]
     },
     "execution_count": 5,
     "metadata": {},
     "output_type": "execute_result"
    }
   ],
   "source": [
    "model = Sequential(\n",
    "    [\n",
    "        Dense(25,activation='relu'),\n",
    "        Dense(15,activation='relu'),\n",
    "        Dense(4,activation='softmax')\n",
    "    ]\n",
    ")\n",
    "model.compile(\n",
    "    loss=tf.keras.losses.SparseCategoricalCrossentropy(),\n",
    "    optimizer=tf.keras.optimizers.Adam(learning_rate=0.001),\n",
    ")\n",
    "model.fit(\n",
    "    xTrain,yTrain,epochs=10\n",
    ")"
   ]
  },
  {
   "cell_type": "code",
   "execution_count": 7,
   "metadata": {},
   "outputs": [
    {
     "name": "stdout",
     "output_type": "stream",
     "text": [
      "63/63 [==============================] - 0s 832us/step\n",
      "[[9.6940147e-03 1.5809899e-03 9.4250631e-01 4.6218589e-02]\n",
      " [9.9391067e-01 5.8769300e-03 5.0514602e-05 1.6187673e-04]]\n",
      "largest value 0.9999996423721313,smallest value 2.2103401053907845e-10\n"
     ]
    }
   ],
   "source": [
    "pNonPreffered = model.predict(xTrain)\n",
    "print(pNonPreffered[:2])\n",
    "print(f'largest value {np.max(pNonPreffered)},smallest value {np.min(pNonPreffered)}')"
   ]
  },
  {
   "cell_type": "code",
   "execution_count": 9,
   "metadata": {},
   "outputs": [
    {
     "name": "stdout",
     "output_type": "stream",
     "text": [
      "Epoch 1/10\n",
      "63/63 [==============================] - 1s 1ms/step - loss: 1.2285\n",
      "Epoch 2/10\n",
      "63/63 [==============================] - 0s 1ms/step - loss: 0.5513\n",
      "Epoch 3/10\n",
      "63/63 [==============================] - 0s 1ms/step - loss: 0.2358\n",
      "Epoch 4/10\n",
      "63/63 [==============================] - 0s 1ms/step - loss: 0.1275\n",
      "Epoch 5/10\n",
      "63/63 [==============================] - 0s 1ms/step - loss: 0.0875\n",
      "Epoch 6/10\n",
      "63/63 [==============================] - 0s 1ms/step - loss: 0.0690\n",
      "Epoch 7/10\n",
      "63/63 [==============================] - 0s 3ms/step - loss: 0.0584\n",
      "Epoch 8/10\n",
      "63/63 [==============================] - 0s 1ms/step - loss: 0.0518\n",
      "Epoch 9/10\n",
      "63/63 [==============================] - 0s 1ms/step - loss: 0.0473\n",
      "Epoch 10/10\n",
      "63/63 [==============================] - 0s 1ms/step - loss: 0.0438\n"
     ]
    },
    {
     "data": {
      "text/plain": [
       "<keras.callbacks.History at 0x1d0d24b9c60>"
      ]
     },
     "execution_count": 9,
     "metadata": {},
     "output_type": "execute_result"
    }
   ],
   "source": [
    "prefferedModel = Sequential(\n",
    "    [\n",
    "        Dense(25,activation='relu'),\n",
    "        Dense(15,activation='relu'),\n",
    "        Dense(4,activation='softmax')\n",
    "    ]\n",
    ")\n",
    "prefferedModel.compile(\n",
    "    loss=tf.keras.losses.SparseCategoricalCrossentropy(),\n",
    "    optimizer=tf.keras.optimizers.Adam(learning_rate=0.001),\n",
    ")\n",
    "prefferedModel.fit(\n",
    "    xTrain,yTrain,epochs=10\n",
    ")"
   ]
  },
  {
   "cell_type": "code",
   "execution_count": 10,
   "metadata": {},
   "outputs": [
    {
     "name": "stdout",
     "output_type": "stream",
     "text": [
      "63/63 [==============================] - 0s 1ms/step\n",
      "[[9.6940147e-03 1.5809899e-03 9.4250631e-01 4.6218589e-02]\n",
      " [9.9391067e-01 5.8769300e-03 5.0514602e-05 1.6187673e-04]]\n",
      "largest value 0.9999996423721313,smallest value 2.2103401053907845e-10\n"
     ]
    }
   ],
   "source": [
    "pPreffered = model.predict(xTrain)\n",
    "print(pPreffered[:2])\n",
    "print(f'largest value {np.max(pPreffered)},smallest value {np.min(pPreffered)}')"
   ]
  },
  {
   "cell_type": "code",
   "execution_count": 11,
   "metadata": {},
   "outputs": [
    {
     "name": "stdout",
     "output_type": "stream",
     "text": [
      "two example output vectors:\n",
      " [[0.1795085  0.17805806 0.45624727 0.1861862 ]\n",
      " [0.47334155 0.17622887 0.17520507 0.17522457]]\n",
      "largest value 0.47536677 smallest value 0.17487772\n"
     ]
    }
   ],
   "source": [
    "smPreffered = tf.nn.softmax(pPreffered).numpy()\n",
    "print(f\"two example output vectors:\\n {smPreffered[:2]}\")\n",
    "print(\"largest value\", np.max(smPreffered), \"smallest value\", np.min(smPreffered))"
   ]
  },
  {
   "cell_type": "code",
   "execution_count": 12,
   "metadata": {},
   "outputs": [
    {
     "name": "stdout",
     "output_type": "stream",
     "text": [
      "[0.00969401 0.00158099 0.9425063  0.04621859], category: 2\n",
      "[9.9391067e-01 5.8769300e-03 5.0514602e-05 1.6187673e-04], category: 0\n",
      "[9.5700926e-01 4.1242633e-02 6.2452466e-04 1.1235843e-03], category: 0\n",
      "[0.00781677 0.9877664  0.00246671 0.00195024], category: 1\n",
      "[0.0092671  0.00105116 0.9880242  0.00165752], category: 2\n"
     ]
    }
   ],
   "source": [
    "for i in range(5):\n",
    "    print( f\"{pPreffered[i]}, category: {np.argmax(pPreffered[i])}\")"
   ]
  }
 ],
 "metadata": {
  "kernelspec": {
   "display_name": "Python 3",
   "language": "python",
   "name": "python3"
  },
  "language_info": {
   "codemirror_mode": {
    "name": "ipython",
    "version": 3
   },
   "file_extension": ".py",
   "mimetype": "text/x-python",
   "name": "python",
   "nbconvert_exporter": "python",
   "pygments_lexer": "ipython3",
   "version": "3.10.9"
  },
  "orig_nbformat": 4
 },
 "nbformat": 4,
 "nbformat_minor": 2
}
